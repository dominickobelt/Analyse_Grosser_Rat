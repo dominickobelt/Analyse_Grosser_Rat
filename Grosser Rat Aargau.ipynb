{
 "cells": [
  {
   "cell_type": "markdown",
   "id": "a3f1b21b",
   "metadata": {},
   "source": [
    "Das Programm soll eine Liste mit allen Motionen, Interpellationen und Postulaten erstellen, die im aktuellen Jahr (oder später in einer einstellbaren Zeitperiode) im Grossen Rat Aargau eingereicht wurden.\n",
    "Es soll ausgewertet werden, welche Parlamentarier wieviele Vorstösse eingereicht haben und welche Parlamentarier und Parteien besonders oft zusammengearbeitet haben"
   ]
  },
  {
   "cell_type": "code",
   "execution_count": 63,
   "id": "471d54f4",
   "metadata": {
    "id": "471d54f4"
   },
   "outputs": [],
   "source": [
    "from selenium import webdriver\n",
    "from selenium.webdriver.common.keys import Keys\n",
    "from selenium.webdriver.common.by import By\n",
    "from selenium.webdriver.support.ui import Select\n",
    "from bs4 import BeautifulSoup\n",
    "import time\n",
    "import os\n",
    "import re\n",
    "import pandas as pd\n",
    "from tqdm import tqdm\n",
    "import urllib.parse\n",
    "from pathlib import Path\n",
    "import numpy as np"
   ]
  },
  {
   "cell_type": "code",
   "execution_count": 64,
   "id": "b53daaca",
   "metadata": {},
   "outputs": [],
   "source": [
    "#mit firstyeahr und lastyeahr soll später die Zeitspanne angegeben werden, in der die Geschäfte ausgewertete werden\n",
    "firstyear = 2021\n",
    "lastyear = 2021\n",
    "\n",
    "#FUNKTIONEN UND LISTE MIT BEZIRKEN-GEMEINDEN\n",
    "\n",
    "#Funktion, um alle weiteren Seiten abzuspeichern\n",
    "def save_site(page,count):\n",
    "    driver.find_element_by_xpath(page).click()\n",
    "    time.sleep(2)\n",
    "    page = driver.page_source.encode('utf-8')\n",
    "    file = open(\"pages/parl/parl\"+str(count)+\".htm\", \"wb+\")\n",
    "    file.write(page)\n",
    "    file.close()\n",
    "    count += 1\n",
    "    return count\n",
    "\n",
    "\n",
    "#Funktion, um alle weiteren Seiten abzuspeichern\n",
    "def save_site_vorstoesse(page_vorstoesse,count_vorstoesse):\n",
    "    driver.find_element_by_xpath(page_vorstoesse).click()\n",
    "    time.sleep(2)\n",
    "    page = driver.page_source.encode('utf-8')\n",
    "    file = open(\"pages/vorstoesse/\"+adrid+\"/\"+str(count_vorstoesse)+\".htm\", \"wb+\")\n",
    "    file.write(page)\n",
    "    file.close()\n",
    "    count_vorstoesse += 1\n",
    "    return count_vorstoesse\n",
    "\n",
    "#Hier bilde ich aus der Geschäftsnummer-ID das Jahr des Geschäfts\n",
    "def trennen(elem):\n",
    "    datum = elem.split(\".\")[0]\n",
    "    datum = datum.replace('=\"', \"\")\n",
    "    datum = datum_umwandeln(datum)\n",
    "    return datum\n",
    "\n",
    "#Mit dieser Funktion wird die zweistellige Zahl aus der Geschäfts-ID in eine 4-stellige Jahreszahl umgewandelt\n",
    "def datum_umwandeln(jahr):\n",
    "    jahr_neu = pd.to_datetime(jahr, format='%y')\n",
    "    jahr_neu = jahr_neu.strftime(\"%Y\")\n",
    "    return jahr_neu\n",
    "\n",
    "#Mit der Funktion prüfen wir, ob eine (oder mehrere) Fraktion(en) an einem Vorstoss beteiligt sind\n",
    "def check_fraktionen(id_vorstoss,fraktionen):\n",
    "    a = list_vorstoesse_namen[list_vorstoesse_namen[\"ID Vorstoss\"] == id_vorstoss][\"Fraktion\"]\n",
    "    #Nur eine Partei\n",
    "    if len(fraktionen) == 1:\n",
    "        if fraktionen[0] in a.unique():\n",
    "            result=1\n",
    "        else:\n",
    "            result=0\n",
    "    #2 Parteien\n",
    "    if len(fraktionen) == 2:\n",
    "        if fraktionen[0] in a.unique() and fraktionen[1] in a.unique():\n",
    "            result=1\n",
    "        else:\n",
    "            result=0\n",
    "    #3 Parteien\n",
    "    if len(fraktionen) == 3:\n",
    "        if fraktionen[0] in a.unique() and fraktionen[1] in a.unique() and fraktionen[2] in a.unique():\n",
    "            result=1\n",
    "        else:\n",
    "            result=0\n",
    "    return(result)\n",
    "\n",
    "#(AG) aus den Ortsnahmen entfernen\n",
    "def ag_entf(gemeinde):\n",
    "    gemeinde = gemeinde.replace(' (AG)', \"\")\n",
    "    return gemeinde\n",
    "\n",
    "#Dict mit allen Bezirken, mit Listen aller Gemeinden\n",
    "bezirke = {\"Aarau\":[],\"Baden\":[],\"Bremgarten\":[],\"Brugg\":[],\"Kulm\":[],\"Laufenburg\":[],\"Lenzburg\":[],\"Muri\":[],\"Rheinfelden\":[],\"Zofingen\":[],\"Zurzach\":[]}\n",
    "for bezirk in bezirke:\n",
    "    if bezirk == \"Baden\":\n",
    "        adresse = \"https://de.wikipedia.org/wiki/Bezirk_\"+bezirk+\"_(Aargau)\"\n",
    "    else:\n",
    "        adresse = \"https://de.wikipedia.org/wiki/Bezirk_\"+bezirk\n",
    "    res=pd.read_html(adresse)\n",
    "    bezirke[bezirk] = res[2][\"Name der Gemeinde\"].apply(ag_entf)\n",
    "    bezirke[bezirk].pop(len(bezirke[bezirk])-1)\n",
    "\n",
    "#Funktion, um Bezirk zuzuordnen\n",
    "def def_bezirk(gemeinde):\n",
    "    for bezirk in bezirke:\n",
    "        if gemeinde in bezirke[bezirk].unique():\n",
    "            return \"Bezirk \"+bezirk\n",
    "        \n",
    "#Funktion, um Vorstösse zu zählen\n",
    "def anzahl_vorstoesse(name):\n",
    "    anzahl = list_vorstoesse_namen[list_vorstoesse_namen[\"Name\"]==name].count()[0]\n",
    "    return anzahl\n",
    "\n",
    "#Funktion, um anhand der Partei die Fraktion zu bestimmen\n",
    "def fraktion(partei):\n",
    "    if partei == \"SVP\" or partei == \"EDU\":\n",
    "        fraktion = \"SVP/EDU\"\n",
    "    else:\n",
    "        fraktion = partei\n",
    "    return fraktion"
   ]
  },
  {
   "cell_type": "code",
   "execution_count": 65,
   "id": "062d0c5c",
   "metadata": {
    "id": "062d0c5c",
    "outputId": "c7650d26-3370-4171-d5bc-f6fafce8e334"
   },
   "outputs": [],
   "source": [
    "#Zuerst werden alle Parlamentarier erfasst. \n",
    "#Dazu werden die entsprechenden Websiten heruntergeladen und jeder Parlamentarier als Dict  mit Partei/Ort/Link/ID erstellt \n",
    "\n",
    "#Neues Fenster mit 1. Seite aufrufen\n",
    "driver = webdriver.Firefox()\n",
    "driver.get('https://www.ag.ch/grossrat/grweb/de/164/Ratsmitglieder?')\n",
    "#Variable count definieren, für Funktion save_site\n",
    "count = 2\n",
    "\n",
    "    \n",
    "#Seite 1 abspeichern\n",
    "page = driver.page_source.encode('utf-8')\n",
    "file = open(\"pages/parl/parl1.htm\", \"wb+\")\n",
    "file.write(page)\n",
    "file.close()\n",
    "\n",
    "\n",
    "#Seiten 2-6\n",
    "sites = [\"/html/body/div/div/div/div/div/article/nav[1]/p[2]/a[1]\",\n",
    "        \"/html/body/div/div/div/div/div/article/nav[1]/p[2]/a[4]\",\n",
    "        \"/html/body/div/div/div/div/div/article/nav[1]/p[2]/a[5]\",\n",
    "        \"/html/body/div/div/div/div/div/article/nav[1]/p[2]/a[5]\",\n",
    "        \"/html/body/div/div/div/div/div/article/nav[1]/p[2]/a[6]\"]\n",
    "\n",
    "#Für alle Seiten Funktion save_site aufrufen, und count hochzählen\n",
    "for site in sites:\n",
    "    #print(site)\n",
    "    count = save_site(site,count)\n",
    "\n",
    "#falls Probleme auftauchen, driver.quit ist noch nicht getestet!!\n",
    "driver.quit()"
   ]
  },
  {
   "cell_type": "code",
   "execution_count": 66,
   "id": "343aca17",
   "metadata": {
    "id": "343aca17"
   },
   "outputs": [],
   "source": [
    "#Im Ordner auslesen, welche Seiten gespeichert wurden\n",
    "lst = os.listdir('pages/parl/')\n",
    "\n",
    "#Leere Liste erstellen. Hier kommen die Inhalte der Seiten rein\n",
    "list_of_pages=[]\n",
    "\n",
    "#Alle gespeicherten Seiten in die Liste list_of_pages schreiben\n",
    "for i in range(0,len(lst)):\n",
    "    file = open('pages/parl/' + lst[i], 'r', encoding='utf-8')\n",
    "    text = file.read()\n",
    "    list_of_pages.append(BeautifulSoup(text, 'html.parser'))"
   ]
  },
  {
   "cell_type": "code",
   "execution_count": 67,
   "id": "16ecc301",
   "metadata": {
    "id": "16ecc301",
    "outputId": "e80d5921-920c-4815-cd9a-277fe7469b7d"
   },
   "outputs": [],
   "source": [
    "#Leere Liste erstellen. Hier kommen alle Politiker als Minidict rein (Name,Partei, Ort, Link)\n",
    "politicians = []\n",
    "\n",
    "#Für jede Seite, die in list_of_pages abgespeichert ist\n",
    "for page in list_of_pages:\n",
    "    result = page.find_all('table', {'class', 'table'})[0]\n",
    "\n",
    "    #Suche in der jeder Zeile der Tabelle nach den entsprechenden Einträgen, speichere als Minidict in die Liste\n",
    "    for politician in result.find_all('tr')[1:]:\n",
    "        link = politician.find_all('a')[0].get('href')\n",
    "        #Ich suche nach 'AdrId=', gefolgt von Zahlen. Durch die Klammern wird der String aufgeteilt, mit group(1) gebe ich nur die Zahlen zurück\n",
    "        id_pol = re.search(r\"AdrId=(\\d+)\", link).group(1)\n",
    "        name = politician.find_all('td')[1].text\n",
    "        #Es ist ein Problem aufgetaucht: Auf der von mir gespeicherten Seite wird nicht die Partei, sondern die Fraktion mitgegeben.\n",
    "        #Das hat zur Folge, dass die beiden Politiker der EDU als Parteibezeichnung SVP bekommen haben. Ich korrigiere das vorläufig \"von Hand\":\n",
    "        if name == \"Bossert Martin\" or name == \"Haller Rolf\":\n",
    "            par = \"EDU\"\n",
    "        else:\n",
    "            par = politician.find_all('td')[0].text\n",
    "        place = politician.find_all('td')[4].text\n",
    "        #print(link)\n",
    "        mini_dict = {\"Name\":name, \"Partei\":par, \"Ort\":place, \"Link\":link, \"ID Politiker\":id_pol}\n",
    "        politicians.append(mini_dict)\n",
    "        try:\n",
    "            os.makedirs(\"pages/\"+id_pol)\n",
    "        except FileExistsError:\n",
    "            # directory already exists\n",
    "            pass\n"
   ]
  },
  {
   "cell_type": "code",
   "execution_count": 79,
   "id": "cced22ef",
   "metadata": {},
   "outputs": [],
   "source": [
    "pd.set_option('display.max_colwidth', 100)\n",
    "list_politicians = pd.DataFrame(politicians)"
   ]
  },
  {
   "cell_type": "code",
   "execution_count": 77,
   "id": "9dd1ecd3",
   "metadata": {
    "id": "9dd1ecd3",
    "scrolled": true
   },
   "outputs": [
    {
     "name": "stdout",
     "output_type": "stream",
     "text": [
      "Ich bin fertig\n"
     ]
    }
   ],
   "source": [
    "anzahl_gr = 0\n",
    "while anzahl_gr < len(politicians):  \n",
    "    adrid = list_politicians[\"ID Politiker\"][anzahl_gr]\n",
    "    \n",
    "    #Neues Fenster mit 1. Seite aufrufen\n",
    "    driver = webdriver.Firefox()\n",
    "    driver.get('https://www.ag.ch/grossrat/grweb/de/185/Detail%20Adresse?AdrId='+adrid)\n",
    "    #Variable count definieren, für Funktion save_site\n",
    "    count = 2\n",
    "    #2 Sekunden warten\n",
    "    time.sleep(2)\n",
    "\n",
    "    #Seite 1 abspeichern\n",
    "    page = driver.page_source.encode('utf-8')\n",
    "    if os.path.exists(\"pages/vorstoesse/\"+adrid):\n",
    "               file = open(\"pages/vorstoesse/\"+adrid+\"/1.htm\", \"wb+\")\n",
    "               file.write(page)\n",
    "               file.close()\n",
    "    else:\n",
    "        os.makedirs(\"pages/vorstoesse/\"+adrid)\n",
    "        file = open(\"pages/vorstoesse/\"+adrid+\"/1.htm\", \"wb+\")\n",
    "        file.write(page)\n",
    "        file.close()\n",
    "\n",
    "    #file wieder öffnen, \"Vorstösse\" suchen und Zahl in Klammer speichern\n",
    "    file = open(\"pages/vorstoesse/\"+adrid+\"/1.htm\",\"r\",encoding=\"UTF-8\")\n",
    "    text = file.read()\n",
    "    h = BeautifulSoup(text, 'html.parser')\n",
    "    text = h.find_all('caption')[1]\n",
    "    anzahl = re.findall(r\"\\(([A-Za-z0-9_]+)\\)\", str(text)) \n",
    "    anzahl = int(anzahl[0])\n",
    "    file.close()\n",
    "\n",
    "    sites_vorstoesse = []\n",
    "\n",
    "    if (anzahl > 25) and (anzahl <=50):\n",
    "        sites_vorstoesse = [\"/html/body/div/div/div/div/div/article/nav[1]/p[2]/a[1]\"]\n",
    "\n",
    "    if (anzahl > 50) and (anzahl <=75):\n",
    "        sites_vorstoesse = [\"/html/body/div/div/div/div/div/article/nav[1]/p[2]/a[1]\",\n",
    "                \"/html/body/div/div/div/div/div/article/nav[1]/p[2]/a[4]\"]\n",
    "\n",
    "    if anzahl > 75 and anzahl <=100:\n",
    "        sites_vorstoesse = [\"/html/body/div/div/div/div/div/article/nav[1]/p[2]/a[1]\",\n",
    "                \"/html/body/div/div/div/div/div/article/nav[1]/p[2]/a[4]\",\n",
    "                \"/html/body/div/div/div/div/div/article/nav[1]/p[2]/a[5]\",]\n",
    "\n",
    "    if anzahl > 100 and anzahl <=125:\n",
    "        sites_vorstoesse = [\"/html/body/div/div/div/div/div/article/nav[1]/p[2]/a[1]\",\n",
    "                \"/html/body/div/div/div/div/div/article/nav[1]/p[2]/a[4]\",\n",
    "                \"/html/body/div/div/div/div/div/article/nav[1]/p[2]/a[5]\",\n",
    "                \"/html/body/div/div/div/div/div/article/nav[1]/p[2]/a[5]\"]\n",
    "\n",
    "    if anzahl > 125 and anzahl <=150:\n",
    "        sites_vorstoesse = [\"/html/body/div/div/div/div/div/article/nav[1]/p[2]/a[1]\",\n",
    "                \"/html/body/div/div/div/div/div/article/nav[1]/p[2]/a[4]\",\n",
    "                \"/html/body/div/div/div/div/div/article/nav[1]/p[2]/a[5]\",\n",
    "                \"/html/body/div/div/div/div/div/article/nav[1]/p[2]/a[5]\",\n",
    "                \"/html/body/div/div/div/div/div/article/nav[1]/p[2]/a[6]\"]\n",
    "\n",
    "    if anzahl > 150:\n",
    "        print(\"ACHTUNG!!! Anzahl grösser 150\")\n",
    "\n",
    "    #Für alle Seiten Funktion save_site aufrufen, und count hochzählen\n",
    "    count_vorstoesse = 2\n",
    "    for site_vorstoesse in sites_vorstoesse:\n",
    "        count_vorstoesse = save_site_vorstoesse(site_vorstoesse,count_vorstoesse)\n",
    "        \n",
    "    anzahl_gr+=1\n",
    "print(\"Ich bin fertig\")\n",
    "driver.quit()"
   ]
  },
  {
   "cell_type": "code",
   "execution_count": 80,
   "id": "3b47c72b",
   "metadata": {
    "id": "3b47c72b"
   },
   "outputs": [],
   "source": [
    "#Bezirke zuordnen\n",
    "list_politicians['Ort'] = list_politicians['Ort'].apply(ag_entf)\n",
    "list_politicians['Bezirk'] = list_politicians['Ort'].apply(def_bezirk)\n",
    "\n",
    "#Fraktion reinschreiben\n",
    "list_politicians[\"Fraktion\"] = list_politicians[\"Partei\"].apply(fraktion)"
   ]
  },
  {
   "cell_type": "code",
   "execution_count": 99,
   "id": "19658d8d",
   "metadata": {},
   "outputs": [
    {
     "data": {
      "text/html": [
       "<div>\n",
       "<style scoped>\n",
       "    .dataframe tbody tr th:only-of-type {\n",
       "        vertical-align: middle;\n",
       "    }\n",
       "\n",
       "    .dataframe tbody tr th {\n",
       "        vertical-align: top;\n",
       "    }\n",
       "\n",
       "    .dataframe thead th {\n",
       "        text-align: right;\n",
       "    }\n",
       "</style>\n",
       "<table border=\"1\" class=\"dataframe\">\n",
       "  <thead>\n",
       "    <tr style=\"text-align: right;\">\n",
       "      <th></th>\n",
       "      <th>Name</th>\n",
       "      <th>Partei</th>\n",
       "      <th>Ort</th>\n",
       "      <th>Link</th>\n",
       "      <th>ID Politiker</th>\n",
       "      <th>Bezirk</th>\n",
       "      <th>Fraktion</th>\n",
       "      <th>Anzahl Vorstösse</th>\n",
       "    </tr>\n",
       "  </thead>\n",
       "  <tbody>\n",
       "  </tbody>\n",
       "</table>\n",
       "</div>"
      ],
      "text/plain": [
       "Empty DataFrame\n",
       "Columns: [Name, Partei, Ort, Link, ID Politiker, Bezirk, Fraktion, Anzahl Vorstösse]\n",
       "Index: []"
      ]
     },
     "execution_count": 99,
     "metadata": {},
     "output_type": "execute_result"
    }
   ],
   "source": [
    "#Überprüfen\n",
    "list_politicians[list_politicians[\"Bezirk\"].isnull() == True]"
   ]
  },
  {
   "cell_type": "code",
   "execution_count": 85,
   "id": "3a5cf5d6",
   "metadata": {},
   "outputs": [],
   "source": [
    "#Korrigieren\n",
    "orte_korr = {\n",
    "    'Baden-Dättwil': 'Baden',\n",
    "    'Kirchdorf': 'Obersiggenthal',\n",
    "    'Hettenschwil': 'Leuggern',\n",
    "    'Wildegg': 'Möriken-Wildegg',\n",
    "    'Glashütten': 'Murgenthal',\n",
    "    'Kleindöttingen': 'Böttstein',\n",
    "    'Gippingen': 'Leuggern',\n",
    "    'Nussbaumen b.Baden': 'Obersiggenthal',\n",
    "    'Umiken': 'Brugg',\n",
    "    'Baden 1': 'Baden',\n",
    "    'Mühlethal': 'Zofingen',\n",
    "}\n",
    "list_politicians['Ort'].replace(orte_korr, inplace=True)\n",
    "\n",
    "\n",
    "#erneut zuordnen\n",
    "list_politicians['Bezirk'] = list_politicians['Ort'].apply(def_bezirk)\n",
    "\n",
    "#Nicht herausgefunden, warum bei Leila Hunziker, Aarau, (id 63) der Bezirk nicht zugeordnet wird, deshalb von Hand:\n",
    "list_politicians.at[63,'Bezirk']='Bezirk Aarau'"
   ]
  },
  {
   "cell_type": "code",
   "execution_count": 100,
   "id": "9ec10285",
   "metadata": {},
   "outputs": [],
   "source": [
    "#Politiker in ein csv schreiben (für Auswertung Redezeit)\n",
    "list_politicians.to_csv('aktive_parlamentarier.csv', index=False)"
   ]
  },
  {
   "cell_type": "code",
   "execution_count": 101,
   "id": "a9389f73",
   "metadata": {
    "id": "a9389f73",
    "outputId": "6ab651d8-cfe4-4648-8933-c425dd5066aa"
   },
   "outputs": [
    {
     "name": "stdout",
     "output_type": "stream",
     "text": [
      "Ich bin feeeidsch\n"
     ]
    }
   ],
   "source": [
    "anzahl_gr = 0\n",
    "#Leere Liste erstellen. Hier kommen alle Vorstösse als Minidict rein\n",
    "vorstoesse = []\n",
    "while anzahl_gr < len(politicians):  \n",
    "    adrid = list_politicians[\"ID Politiker\"][anzahl_gr]    \n",
    "    #Im Ordner auslesen, welche Seiten gespeichert wurden\n",
    "    lst = os.listdir('pages/vorstoesse/'+adrid)\n",
    "    #print(lst)\n",
    "\n",
    "    #Leere Liste erstellen. Hier kommen die Inhalte der Seiten rein\n",
    "    list_of_pages_vorstoesse=[]\n",
    "\n",
    "    #Alle gespeicherten Seiten in die Liste list_of_pages schreiben\n",
    "    for i in range(0,len(lst)):\n",
    "        file = open('pages/vorstoesse/'+adrid+\"/\" + lst[i], 'r', encoding='utf-8')\n",
    "        text = file.read()\n",
    "        list_of_pages_vorstoesse.append(BeautifulSoup(text, 'html.parser'))\n",
    "\n",
    "\n",
    "\n",
    "    #Für jede Seite, die in list_of_pages abgespeichert ist\n",
    "    for page in list_of_pages_vorstoesse:\n",
    "        result = page.find_all('table', {'class', 'table'})[2]\n",
    "\n",
    "        #Suche in der jeder Zeile der Tabelle nach den entsprechenden Einträgen, speichere als Minidict in die Liste\n",
    "        for vorstoss in result.find_all('tr')[1:]:\n",
    "            id_vorstoss = vorstoss.find_all('td')[0].text\n",
    "            #vorstoesse.append(id_vorstoss)\n",
    "            text_vorstoss = vorstoss.find_all('td')[1].text\n",
    "            art_vorstoss = vorstoss.find_all('td')[2].text\n",
    "            mini_dict = {\"ID Vorstoss\":id_vorstoss, \"ID Politiker\":adrid, \"Art\":art_vorstoss, \"Text\":text_vorstoss}\n",
    "            vorstoesse.append(mini_dict)\n",
    "            \n",
    "    anzahl_gr+=1\n",
    "print(\"Ich bin feeeidsch\")\n",
    "\n",
    "list_vorstoesse = pd.DataFrame(vorstoesse)"
   ]
  },
  {
   "cell_type": "code",
   "execution_count": 102,
   "id": "d9629211",
   "metadata": {},
   "outputs": [],
   "source": [
    "#Zuerst die Jahreszahl rauslsen und in eine neue Spalte schreiben\n",
    "list_vorstoesse['Jahr'] = list_vorstoesse['ID Vorstoss'].apply(trennen).astype(int)\n",
    "\n",
    "#Nur den Teil aus der Zeitspanne rausfiltern, der oben angegeben ist\n",
    "list_vorstoesse = list_vorstoesse[(list_vorstoesse['Jahr'] >= firstyear) & (list_vorstoesse['Jahr'] <= lastyear)]"
   ]
  },
  {
   "cell_type": "code",
   "execution_count": 103,
   "id": "34cedd23",
   "metadata": {},
   "outputs": [],
   "source": [
    "#Die Liste der Vorstösse mit der Liste der Politiker kombinieren, Link rauslöschen\n",
    "list_vorstoesse_namen = list_vorstoesse.merge(list_politicians, how='inner', on='ID Politiker')\n",
    "list_vorstoesse_namen  = list_vorstoesse_namen.drop([\"Link\"], axis=1)"
   ]
  },
  {
   "cell_type": "code",
   "execution_count": 104,
   "id": "3b17c7fe",
   "metadata": {},
   "outputs": [
    {
     "data": {
      "text/plain": [
       "19"
      ]
     },
     "execution_count": 104,
     "metadata": {},
     "output_type": "execute_result"
    }
   ],
   "source": [
    "### AUSWERTUNG\n",
    "\n",
    "#Hier kann man mehrere Parteien angeben, es wird die Anzahl gemeinsamer Vorstösse zurückgegeben\n",
    "anzahl_gemeinsam = 0\n",
    "fraktionen=[\"Die Mitte\",\"SVP/EDU\"]\n",
    "for ID_Vorstoss in list_vorstoesse_namen[\"ID Vorstoss\"].unique():\n",
    "    anzahl_gemeinsam+=check_fraktionen(ID_Vorstoss,fraktionen)\n",
    "    \n",
    "anzahl_gemeinsam\n",
    "    "
   ]
  },
  {
   "cell_type": "code",
   "execution_count": 105,
   "id": "a6d709b3",
   "metadata": {},
   "outputs": [],
   "source": [
    "#In die Liste der Politiker die Anzahl Vorstösse reinschreiben\n",
    "list_politicians['Anzahl Vorstösse'] = list_politicians['Name'].apply(anzahl_vorstoesse)"
   ]
  },
  {
   "cell_type": "code",
   "execution_count": 107,
   "id": "10f0d4b2",
   "metadata": {},
   "outputs": [],
   "source": [
    "#File für jeden Bezirk erstellen\n",
    "for bezirk in bezirke:\n",
    "    file = list_politicians[list_politicians[\"Bezirk\"]==\"Bezirk \"+bezirk].sort_values(by=['Anzahl Vorstösse'], ascending=False)\n",
    "    file.to_csv('bezirke/'+bezirk+'.csv', index=False)"
   ]
  },
  {
   "cell_type": "code",
   "execution_count": 94,
   "id": "e7dffbe3",
   "metadata": {},
   "outputs": [],
   "source": [
    "for bezirk in bezirke:\n",
    "    #file = list_politicians[list_politicians[\"Bezirk\"]==\"Bezirk \"+bezirk].sort_values(by=['Anzahl Vorstösse'], ascending=False)\n",
    "    file.to_csv('bezirke/'+bezirk+'.csv', index=False)"
   ]
  },
  {
   "cell_type": "code",
   "execution_count": 95,
   "id": "08e25ec3",
   "metadata": {},
   "outputs": [
    {
     "data": {
      "text/html": [
       "<div>\n",
       "<style scoped>\n",
       "    .dataframe tbody tr th:only-of-type {\n",
       "        vertical-align: middle;\n",
       "    }\n",
       "\n",
       "    .dataframe tbody tr th {\n",
       "        vertical-align: top;\n",
       "    }\n",
       "\n",
       "    .dataframe thead th {\n",
       "        text-align: right;\n",
       "    }\n",
       "</style>\n",
       "<table border=\"1\" class=\"dataframe\">\n",
       "  <thead>\n",
       "    <tr style=\"text-align: right;\">\n",
       "      <th></th>\n",
       "      <th>Anzahl Vorstösse</th>\n",
       "    </tr>\n",
       "    <tr>\n",
       "      <th>Partei</th>\n",
       "      <th></th>\n",
       "    </tr>\n",
       "  </thead>\n",
       "  <tbody>\n",
       "    <tr>\n",
       "      <th>Die Mitte</th>\n",
       "      <td>69</td>\n",
       "    </tr>\n",
       "    <tr>\n",
       "      <th>EDU</th>\n",
       "      <td>4</td>\n",
       "    </tr>\n",
       "    <tr>\n",
       "      <th>EVP</th>\n",
       "      <td>24</td>\n",
       "    </tr>\n",
       "    <tr>\n",
       "      <th>FDP</th>\n",
       "      <td>49</td>\n",
       "    </tr>\n",
       "    <tr>\n",
       "      <th>GLP</th>\n",
       "      <td>36</td>\n",
       "    </tr>\n",
       "    <tr>\n",
       "      <th>Grüne</th>\n",
       "      <td>26</td>\n",
       "    </tr>\n",
       "    <tr>\n",
       "      <th>SP</th>\n",
       "      <td>68</td>\n",
       "    </tr>\n",
       "    <tr>\n",
       "      <th>SVP</th>\n",
       "      <td>60</td>\n",
       "    </tr>\n",
       "  </tbody>\n",
       "</table>\n",
       "</div>"
      ],
      "text/plain": [
       "           Anzahl Vorstösse\n",
       "Partei                     \n",
       "Die Mitte                69\n",
       "EDU                       4\n",
       "EVP                      24\n",
       "FDP                      49\n",
       "GLP                      36\n",
       "Grüne                    26\n",
       "SP                       68\n",
       "SVP                      60"
      ]
     },
     "execution_count": 95,
     "metadata": {},
     "output_type": "execute_result"
    }
   ],
   "source": [
    "list_politicians.groupby(by=[\"Partei\"], dropna=False).sum()"
   ]
  },
  {
   "cell_type": "code",
   "execution_count": 1,
   "id": "ab8e9828",
   "metadata": {},
   "outputs": [
    {
     "ename": "NameError",
     "evalue": "name 'list_politicians' is not defined",
     "output_type": "error",
     "traceback": [
      "\u001b[1;31m---------------------------------------------------------------------------\u001b[0m",
      "\u001b[1;31mNameError\u001b[0m                                 Traceback (most recent call last)",
      "\u001b[1;32m~\\AppData\\Local\\Temp/ipykernel_11720/3020220114.py\u001b[0m in \u001b[0;36m<module>\u001b[1;34m\u001b[0m\n\u001b[1;32m----> 1\u001b[1;33m \u001b[0manz_vorst\u001b[0m \u001b[1;33m=\u001b[0m \u001b[0mlist_politicians\u001b[0m\u001b[1;33m.\u001b[0m\u001b[0mgroupby\u001b[0m\u001b[1;33m(\u001b[0m\u001b[0mby\u001b[0m\u001b[1;33m=\u001b[0m\u001b[1;33m[\u001b[0m\u001b[1;34m\"Name\"\u001b[0m\u001b[1;33m]\u001b[0m\u001b[1;33m,\u001b[0m \u001b[0mdropna\u001b[0m\u001b[1;33m=\u001b[0m\u001b[1;32mFalse\u001b[0m\u001b[1;33m)\u001b[0m\u001b[1;33m.\u001b[0m\u001b[0msum\u001b[0m\u001b[1;33m(\u001b[0m\u001b[1;33m)\u001b[0m\u001b[1;33m\u001b[0m\u001b[1;33m\u001b[0m\u001b[0m\n\u001b[0m\u001b[0;32m      2\u001b[0m \u001b[0manz_vorst\u001b[0m\u001b[1;33m.\u001b[0m\u001b[0msort_values\u001b[0m\u001b[1;33m(\u001b[0m\u001b[0mby\u001b[0m\u001b[1;33m=\u001b[0m\u001b[1;33m[\u001b[0m\u001b[1;34m'Anzahl Vorstösse'\u001b[0m\u001b[1;33m]\u001b[0m\u001b[1;33m)\u001b[0m\u001b[1;33m.\u001b[0m\u001b[0mtail\u001b[0m\u001b[1;33m(\u001b[0m\u001b[1;36m15\u001b[0m\u001b[1;33m)\u001b[0m\u001b[1;33m\u001b[0m\u001b[1;33m\u001b[0m\u001b[0m\n",
      "\u001b[1;31mNameError\u001b[0m: name 'list_politicians' is not defined"
     ]
    }
   ],
   "source": [
    "#Die Politikerinnen und Politiker mit den wenigsten Vorstössen\n",
    "anz_vorst = list_politicians.groupby(by=[\"Name\"], dropna=False).sum()\n",
    "anz_vorst.sort_values(by=['Anzahl Vorstösse']).tail(15)"
   ]
  },
  {
   "cell_type": "code",
   "execution_count": 98,
   "id": "a799f41d",
   "metadata": {},
   "outputs": [
    {
     "name": "stdout",
     "output_type": "stream",
     "text": [
      "SVP/EDU und FDP 18\n",
      "SVP/EDU und SP 15\n",
      "SVP/EDU und Die Mitte 19\n",
      "SVP/EDU und GLP 12\n",
      "SVP/EDU und Grüne 10\n",
      "SVP/EDU und EVP 7\n",
      "FDP und SVP/EDU 18\n",
      "FDP und SP 17\n",
      "FDP und Die Mitte 19\n",
      "FDP und GLP 12\n",
      "FDP und Grüne 13\n",
      "FDP und EVP 8\n",
      "SP und SVP/EDU 15\n",
      "SP und FDP 17\n",
      "SP und Die Mitte 25\n",
      "SP und GLP 23\n",
      "SP und Grüne 22\n",
      "SP und EVP 18\n",
      "Die Mitte und SVP/EDU 19\n",
      "Die Mitte und FDP 19\n",
      "Die Mitte und SP 25\n",
      "Die Mitte und GLP 21\n",
      "Die Mitte und Grüne 20\n",
      "Die Mitte und EVP 16\n",
      "GLP und SVP/EDU 12\n",
      "GLP und FDP 12\n",
      "GLP und SP 23\n",
      "GLP und Die Mitte 21\n",
      "GLP und Grüne 19\n",
      "GLP und EVP 17\n",
      "Grüne und SVP/EDU 10\n",
      "Grüne und FDP 13\n",
      "Grüne und SP 22\n",
      "Grüne und Die Mitte 20\n",
      "Grüne und GLP 19\n",
      "Grüne und EVP 13\n",
      "EVP und SVP/EDU 7\n",
      "EVP und FDP 8\n",
      "EVP und SP 18\n",
      "EVP und Die Mitte 16\n",
      "EVP und GLP 17\n",
      "EVP und Grüne 13\n"
     ]
    }
   ],
   "source": [
    "#Zusammenarbeit zwischen allen Parteien berechnen\n",
    "\n",
    "alle_fraktionen=[\"SVP/EDU\",\"FDP\",\"SP\",\"Die Mitte\",\"GLP\",\"Grüne\",\"EVP\"]\n",
    "Zusammenarbeit = pd.DataFrame({'Parteien': alle_fraktionen})\n",
    "\n",
    "for fraktion in alle_fraktionen:\n",
    "    for fraktion2 in alle_fraktionen:\n",
    "        if fraktion == fraktion2:\n",
    "            pass\n",
    "        else:\n",
    "            anzahl_gemeinsam = 0\n",
    "            fraktionen=[fraktion,fraktion2]\n",
    "            for ID_Vorstoss in list_vorstoesse_namen[\"ID Vorstoss\"].unique():\n",
    "                anzahl_gemeinsam+=check_fraktionen(ID_Vorstoss,fraktionen)\n",
    "            print(fraktion+\" und \"+fraktion2+\" \"+str(anzahl_gemeinsam))\n",
    "                \n",
    "    \n",
    "\n",
    "\n"
   ]
  }
 ],
 "metadata": {
  "colab": {
   "name": "Grosser Rat Aargau.ipynb",
   "provenance": []
  },
  "kernelspec": {
   "display_name": "Python 3 (ipykernel)",
   "language": "python",
   "name": "python3"
  },
  "language_info": {
   "codemirror_mode": {
    "name": "ipython",
    "version": 3
   },
   "file_extension": ".py",
   "mimetype": "text/x-python",
   "name": "python",
   "nbconvert_exporter": "python",
   "pygments_lexer": "ipython3",
   "version": "3.8.12"
  }
 },
 "nbformat": 4,
 "nbformat_minor": 5
}
