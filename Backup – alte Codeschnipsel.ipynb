{
 "cells": [
  {
   "cell_type": "code",
   "execution_count": null,
   "id": "5b1b18c9",
   "metadata": {},
   "outputs": [],
   "source": [
    "import requests\n",
    "import pandas as pd\n",
    "from tqdm import tqdm\n",
    "from bs4 import BeautifulSoup"
   ]
  },
  {
   "cell_type": "code",
   "execution_count": null,
   "id": "d4f3541c",
   "metadata": {},
   "outputs": [],
   "source": [
    "offset = 0\n",
    "headers = {'User-Agent': 'Mozilla/5.0 (Macintosh; Intel Mac OS X 10_10_1) AppleWebKit/537.36 (KHTML, like Gecko) Chrome/39.0.2171.95 Safari/537.36'}\n",
    "\n",
    "while offset < 130:\n",
    "    base_url = \"https://www.ag.ch/grossrat/grweb/de/164/Ratsmitglieder?\"\n",
    "    url = base_url + str(offset)\n",
    "    print(url)\n",
    "    offset += 25\n",
    "    \n",
    "    r = requests.get(url, headers=headers)\n",
    "    r = BeautifulSoup(r.text, \"html.parser\")\n",
    "    #print (r.text)\n",
    "    politicians = []\n",
    "    \n",
    "    result = r.find_all('nav', {'class', 'paging'})[0]\n",
    "    result = r.find_all('a', {'class', 'paging__item paging__next'})[0][\"href\"]\n",
    "    r = requests.get(result, headers=headers)\n",
    "    r = BeautifulSoup(r.text, \"html.parser\")\n",
    "    #tag = BeautifulSoup('result', 'html.parser').b\n",
    "    #tag['id']\n",
    "    #tag['FrmProperty']\n",
    "    print(result)\n",
    "    print(r)\n",
    "    result = r.find_all('table', {'class', 'table'})[0]\n",
    "    \n",
    "    #print(a.get(\"FrmProperty\") for a in result.find_all(\"a\"))\n",
    "    \n",
    "    for politician in result.find_all('tr')[1:]:\n",
    "        test = politician.find_all('td')[0].text\n",
    "        print(test)"
   ]
  },
  {
   "cell_type": "code",
   "execution_count": null,
   "id": "240a0d78",
   "metadata": {},
   "outputs": [],
   "source": [
    "import requests\n",
    "import pandas as pd\n",
    "from tqdm import tqdm\n",
    "from bs4 import BeautifulSoup\n",
    "\n",
    "offset = 0\n",
    "\n",
    "while offset < 130:\n",
    "    base_url = \"https://www.ag.ch/grossrat/grweb/de/164/Ratsmitglieder?\"\n",
    "    url = base_url + str(offset)\n",
    "    offset += 25\n",
    "    \n",
    "    r = requests.get(url, headers=headers)\n",
    "    r = BeautifulSoup(r.text, \"html.parser\")\n",
    "    politicians = []\n",
    "    \n",
    "    result = r.find_all('nav', {'class', 'paging'})[0]\n",
    "    result = r.find_all('a', {'class', 'paging__item paging__next'})[0][\"href\"]\n",
    "    r = requests.get(result, headers=headers)\n",
    "    r = BeautifulSoup(r.text, \"html.parser\")\n",
    "    result = r.find_all('table', {'class', 'table'})[0]\n",
    "    \n",
    "    for politician in result.find_all('tr')[1:]:\n",
    "        var = politician.find_all('td')[0].text\n",
    "        print(var)"
   ]
  },
  {
   "cell_type": "code",
   "execution_count": null,
   "id": "c7ebb19e",
   "metadata": {},
   "outputs": [],
   "source": [
    "test_liste_hanspeter = [23,18,87]\n",
    "test_liste_julia = [23,18,55]\n",
    "test_dict_hanspeter = {\"Name\":\"Hanspeter\", \"Initiativen\":test_liste_hanspeter}\n",
    "test_dict_julia = {\"Name\":\"Julia\", \"Initiativen\":test_liste_julia}\n",
    "liste_gesamt = [test_dict_hanspeter,test_dict_julia]\n",
    "\n",
    "pd.DataFrame(liste_gesamt)"
   ]
  }
 ],
 "metadata": {
  "kernelspec": {
   "display_name": "Python 3",
   "language": "python",
   "name": "python3"
  },
  "language_info": {
   "codemirror_mode": {
    "name": "ipython",
    "version": 3
   },
   "file_extension": ".py",
   "mimetype": "text/x-python",
   "name": "python",
   "nbconvert_exporter": "python",
   "pygments_lexer": "ipython3",
   "version": "3.8.8"
  }
 },
 "nbformat": 4,
 "nbformat_minor": 5
}
